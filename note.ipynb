{
 "cells": [
  {
   "cell_type": "code",
   "execution_count": 1,
   "metadata": {},
   "outputs": [
    {
     "name": "stdout",
     "output_type": "stream",
     "text": [
      "1 2\n",
      "null\n",
      "undefined\n",
      "[ 1, 2, true, 'hoonys', 'hello' ]\n",
      "{ name: 'hooonys', point: 15, country: 'Korea' }\n",
      "hooonys\n"
     ]
    },
    {
     "data": {
      "text/plain": [
       "undefined"
      ]
     },
     "execution_count": 1,
     "metadata": {},
     "output_type": "execute_result"
    }
   ],
   "source": [
    "// const, let, null, undifined, array [], object {}\n",
    "\n",
    "// const, let\n",
    "const a = 1;\n",
    "let b = 1;\n",
    "b = 2\n",
    "console.log(a, b);\n",
    "\n",
    "// null\n",
    "const c = null;\n",
    "console.log(c);\n",
    "\n",
    "// undifined\n",
    "let d;\n",
    "console.log(d);\n",
    "\n",
    "// 설명이 필요하지 않은 데이터 리스트들은 array로,\n",
    "// 설명이 필요한 정보가 담긴 데이터 리스트들은 object로!\n",
    "\n",
    "// array []\n",
    "const arr = [1, 2, true, 'hoonys', \"hello\"];\n",
    "console.log(arr);\n",
    "\n",
    "// object {}\n",
    "const player = {\n",
    "    name : 'hooonys',\n",
    "    point : 10,\n",
    "};\n",
    "\n",
    "player.point = 15;\n",
    "player.country = 'Korea';\n",
    "\n",
    "console.log(player);\n",
    "console.log(player.name);"
   ]
  },
  {
   "cell_type": "code",
   "execution_count": null,
   "metadata": {},
   "outputs": [],
   "source": [
    "/* \n",
    "    function name() {}, \n",
    "    prompt(”질문”) = 파이썬 input()\n",
    "    typeof\n",
    "    parseInt()\n",
    "    isNaN()\n",
    "    if () {} else if () {} else {}\n",
    "    &&, ||, ===\n",
    "*/"
   ]
  }
 ],
 "metadata": {
  "kernelspec": {
   "display_name": "JavaScript (Node.js)",
   "language": "javascript",
   "name": "javascript"
  },
  "language_info": {
   "file_extension": ".js",
   "mimetype": "application/javascript",
   "name": "javascript",
   "version": "18.2.0"
  },
  "orig_nbformat": 4
 },
 "nbformat": 4,
 "nbformat_minor": 2
}
